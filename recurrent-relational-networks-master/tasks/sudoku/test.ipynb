{
 "cells": [
  {
   "cell_type": "code",
   "execution_count": 1,
   "metadata": {},
   "outputs": [
    {
     "name": "stdout",
     "output_type": "stream",
     "text": [
      "Reading train.csv...\n",
      "Reading valid.csv...\n",
      "Reading test.csv...\n",
      "('201900004003000690000500000100240000000000470000000300940000000000460010000037006', '261983754853714692794526183137248569625391478489675321946152837378469215512837946')\n"
     ]
    }
   ],
   "source": [
    "from data import sudoku\n",
    "\n",
    "object_sudoku = sudoku()\n",
    "print(object_sudoku.test[0])"
   ]
  },
  {
   "cell_type": "code",
   "execution_count": 2,
   "metadata": {},
   "outputs": [
    {
     "name": "stdout",
     "output_type": "stream",
     "text": [
      "Reading 4queens_dataset_train.csv...\n",
      "Reading 4queens_dataset_valid.csv...\n",
      "Reading 4queens_dataset_test.csv...\n",
      "('0000000000000000', '0010100000010100')\n"
     ]
    }
   ],
   "source": [
    "from data_test import queens\n",
    "\n",
    "object_sudoku = queens()\n",
    "#print(object_sudoku.queens_train[2])\n",
    "print(object_sudoku.test[0])"
   ]
  },
  {
   "cell_type": "code",
   "execution_count": null,
   "metadata": {},
   "outputs": [],
   "source": []
  },
  {
   "cell_type": "code",
   "execution_count": null,
   "metadata": {},
   "outputs": [],
   "source": []
  }
 ],
 "metadata": {
  "kernelspec": {
   "display_name": "Python 3 (ipykernel)",
   "language": "python",
   "name": "python3"
  },
  "language_info": {
   "codemirror_mode": {
    "name": "ipython",
    "version": 3
   },
   "file_extension": ".py",
   "mimetype": "text/x-python",
   "name": "python",
   "nbconvert_exporter": "python",
   "pygments_lexer": "ipython3",
   "version": "3.11.5"
  }
 },
 "nbformat": 4,
 "nbformat_minor": 2
}
